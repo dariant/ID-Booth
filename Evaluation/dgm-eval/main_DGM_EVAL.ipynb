{
 "cells": [
  {
   "cell_type": "markdown",
   "metadata": {},
   "source": [
    "### Metrics between 100 samples and FFHQ "
   ]
  },
  {
   "cell_type": "code",
   "execution_count": null,
   "metadata": {},
   "outputs": [],
   "source": [
    "all_folders = [\n",
    "            #\"12-2024_SD21_LoRA4_alphaWNone_FINAL_FacePortraitPhoto_Gender_Pose_BackgroundB\",\n",
    "            \"12-2024_SD21_LoRA4_alphaWNone_FacePortrait_Photo_Gender_Pose_BackgroundB_100samples\"\n",
    "            # \"01-2025_ID-Booth_ABLATION\", \n",
    "            #\"NonFineTuned_100_samples\"\n",
    "            ]\n",
    "\n",
    "loss_exps = [\"no_new_Loss\", \"identity_loss_TimestepWeight\", \"triplet_prior_loss_TimestepWeight\"]\n",
    "# loss_exps = [\"no_new_Loss_NonFinetuned\"]#\n",
    "# loss_exps = [\"no_new_Loss_NoPrior\"]\n",
    "\n",
    "parent_folder = \"../../FR_DATASETS_Conditional\" #\"../../FR_DATASETS_ABLATION_Conditional\"\n",
    "real_parent_folder = \"../../FR_DATASETS\" \n",
    "\n",
    "real_datasets = [\n",
    "                #f\"{real_parent_folder}/tufts_512_poses_1-7_all_imgs_jpg_per_ID/tufts_images\",\n",
    "                f\"{real_parent_folder}/FFHQ_512/images\"\n",
    "                #f\"{real_parent_folder}/LFW_bench/LFW_images\",\n",
    "                ]\n",
    "\n",
    "nsamples = 10000 \n",
    "model = \"dinov2\"\n",
    "# model = \"clip\"\n",
    "# model = \"mae\"\n",
    "\n",
    "# seed = 0\n",
    "seeds = [0] #[7]#, 7, 42, 69]\n",
    "for seed in seeds:\n",
    "    output_dir = f\"RESULTS_ID-Booth/100_Conditional_Seed{seed}\"\n",
    "    # output_dir = f\"RESULTS_ID-Booth_ABLATION/face_region/100_Conditional_Seed{seed}\"\n",
    "\n",
    "    for dat0 in real_datasets: \n",
    "        for main_fold in all_folders: \n",
    "            for loss_exp in loss_exps:\n",
    "                dat1 = f\"{parent_folder}/{main_fold}/{loss_exp}\" \n",
    "                \n",
    "                # TODO ... !python Precision_Recall_Density_Coverage_FR_20240929_Inception.py $dat0 $dat1 --device cuda:0 --num-workers 2 \n",
    "                !python -m dgm_eval $dat0 $dat1 --model=$model --output_dir=$output_dir --save --nsample=$nsamples --seed=$seed  --metrics prdc vendi fd kd authpct\n",
    "                print(\"===\" * 30)\n",
    "            #break\n",
    "        #break\n",
    "\n",
    "    # TODO \n",
    "# Seed 42 or 7 \n",
    "# maybe even 5000 samples (or more ) (all?)\n",
    "# knn larger (10?)\n"
   ]
  },
  {
   "cell_type": "code",
   "execution_count": null,
   "metadata": {},
   "outputs": [],
   "source": []
  },
  {
   "cell_type": "code",
   "execution_count": null,
   "metadata": {},
   "outputs": [],
   "source": []
  },
  {
   "cell_type": "code",
   "execution_count": null,
   "metadata": {},
   "outputs": [],
   "source": []
  },
  {
   "cell_type": "markdown",
   "metadata": {},
   "source": [
    "### Metrics between 21 samples and Tufts"
   ]
  },
  {
   "cell_type": "code",
   "execution_count": null,
   "metadata": {},
   "outputs": [],
   "source": [
    "all_folders = [\n",
    "            # \"12-2024_SD21_LoRA4_alphaWNone_FINAL_FacePortraitPhoto_Gender_Pose_BackgroundB\",\n",
    "            \"NonFineTuned_21_samples\"\n",
    "            ]\n",
    "\n",
    "loss_exps = [\"no_new_Loss\", \"identity_loss_TimestepWeight\", \"triplet_prior_loss_TimestepWeight\"]\n",
    "loss_exps = [\"no_new_Loss_NonFinetuned\"]\n",
    "\n",
    "parent_folder = \"../../FR_DATASETS_Conditional\"\n",
    "real_parent_folder = \"../../FR_DATASETS\"\n",
    "\n",
    "real_datasets = [\n",
    "                f\"{real_parent_folder}/tufts_512_poses_1-7_all_imgs_jpg_per_ID/tufts_images\",\n",
    "                #f\"{real_parent_folder}/FFHQ_512/images\"\n",
    "                #f\"{real_parent_folder}/LFW_bench/LFW_images\",\n",
    "                ]\n",
    "\n",
    "nsamples = 2500 \n",
    "# seed = 0\n",
    "seeds = [0]#, 7, 42, 69]\n",
    "for seed in seeds:\n",
    "    output_dir = f\"RESULTS_ID-Booth/21_Conditional_Seed{seed}\"\n",
    "\n",
    "    for dat0 in real_datasets: \n",
    "        for main_fold in all_folders: \n",
    "            for loss_exp in loss_exps:\n",
    "                dat1 = f\"{parent_folder}/{main_fold}/{loss_exp}\" \n",
    "                \n",
    "                # TODO ... !python Precision_Recall_Density_Coverage_FR_20240929_Inception.py $dat0 $dat1 --device cuda:0 --num-workers 2 \n",
    "                !python -m dgm_eval $dat0 $dat1 --model dinov2 --output_dir=$output_dir --save --nsample=$nsamples --seed=$seed  --metrics prdc vendi fd kd authpct\n",
    "                print(\"===\" * 30)\n",
    "            #break\n",
    "        #break\n",
    "\n",
    "    # TODO \n",
    "# Seed 42 or 7 \n",
    "# maybe even 5000 samples (or more ) (all?)\n",
    "# knn larger (10?)\n"
   ]
  },
  {
   "cell_type": "code",
   "execution_count": null,
   "metadata": {},
   "outputs": [],
   "source": []
  },
  {
   "cell_type": "markdown",
   "metadata": {},
   "source": [
    "### Eval between Tufts and FFHQ "
   ]
  },
  {
   "cell_type": "code",
   "execution_count": null,
   "metadata": {},
   "outputs": [],
   "source": [
    "\n",
    "\n",
    "# dat1 = \"../../../../FACE_DATASETS/FFHQ_all_images_512x512/images\"\n",
    "# dat0 = \"../../../../FACE_DATASETS/tufts_512_poses_1-7_all_imgs_jpg_per_ID/images\"\n",
    "\n",
    "# !python Precision_Recall_Density_Coverage.py $dat0 $dat1 --device cuda:0 --num-workers 2 \n",
    "\n",
    "parent_folder = \"../../ID-Booth/FR_DATASETS\"\n",
    "\n",
    "dat0 = f\"{parent_folder}/tufts_512_poses_1-7_all_imgs_jpg_per_ID/images\"\n",
    "dat1 = f\"{parent_folder}/FFHQ_512/images\"\n",
    "\n",
    "!python PRDC_FR_CLIP_ID-Booth_12-2024.py $dat0 $dat1 --device cuda:0 --num-workers 2 \n",
    "\n",
    "print(\"===\" * 20)\n",
    "dat0 = f\"{parent_folder}/FFHQ_512/images\"\n",
    "dat1 = f\"{parent_folder}/tufts_512_poses_1-7_all_imgs_jpg_per_ID/images\"\n",
    "\n",
    "!python PRDC_FR_CLIP_ID-Booth_12-2024.py $dat0 $dat1 --device cuda:0 --num-workers 2 \n"
   ]
  },
  {
   "cell_type": "code",
   "execution_count": null,
   "metadata": {},
   "outputs": [],
   "source": []
  },
  {
   "cell_type": "markdown",
   "metadata": {},
   "source": [
    "### PRDC among real dataset"
   ]
  },
  {
   "cell_type": "code",
   "execution_count": null,
   "metadata": {},
   "outputs": [],
   "source": [
    "#dat0 = \"../../../../DreamBooth/FR_DATASETS/FFHQ_all_images_512x512/images\"\n",
    "dat0 = \"../../../../DreamBooth/FR_DATASETS/tufts_512_poses_1-7_all_imgs_jpg_per_ID/images\"\n",
    "\n",
    "# TODO ... fix script to use transforms and things from Precision_Recall_Density_Coverage_FR_2024_10_04_Inception_NuTransform\n",
    "#!python Precision_Recall_Density_Coverage_FR_among_real_20240929_Inception.py $dat0 --device cuda:0 --num-workers 2 \n",
    "# FFHQ 2500\n",
    "# {'PRDC': {'precision': 0.792, 'recall': 0.7736, 'density': 1.0192, 'coverage': 0.9632}}"
   ]
  },
  {
   "cell_type": "code",
   "execution_count": null,
   "metadata": {},
   "outputs": [],
   "source": []
  },
  {
   "cell_type": "code",
   "execution_count": null,
   "metadata": {},
   "outputs": [],
   "source": []
  }
 ],
 "metadata": {
  "kernelspec": {
   "display_name": "dgm-eval",
   "language": "python",
   "name": "python3"
  },
  "language_info": {
   "codemirror_mode": {
    "name": "ipython",
    "version": 3
   },
   "file_extension": ".py",
   "mimetype": "text/x-python",
   "name": "python",
   "nbconvert_exporter": "python",
   "pygments_lexer": "ipython3",
   "version": "3.10.0"
  },
  "orig_nbformat": 4
 },
 "nbformat": 4,
 "nbformat_minor": 2
}
