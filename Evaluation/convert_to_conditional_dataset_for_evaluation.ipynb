{
 "cells": [
  {
   "cell_type": "code",
   "execution_count": null,
   "metadata": {},
   "outputs": [
    {
     "name": "stderr",
     "output_type": "stream",
     "text": [
      "  0%|          | 0/10636 [00:00<?, ?it/s]"
     ]
    },
    {
     "name": "stderr",
     "output_type": "stream",
     "text": [
      "100%|██████████| 10636/10636 [00:00<00:00, 18440.08it/s]\n",
      "100%|██████████| 10696/10696 [00:00<00:00, 18352.04it/s]\n"
     ]
    }
   ],
   "source": [
    "import os \n",
    "import shutil \n",
    "from tqdm import tqdm \n",
    "\n",
    "origin_folder = \"FR_DATASETS_ABLATION\"\n",
    "output_folder = \"FR_DATASETS_ABLATION_Conditional\"\n",
    "\n",
    "folders = [\"01-2025_ID-Booth_ABLATION\"]\n",
    "#folders = [\"NonFineTuned_21_samples\"]\n",
    "\n",
    "# losses = [\"no_new_Loss\", \"identity_loss_TimestepWeight\", \"triplet_prior_loss_TimestepWeight\"]\n",
    "#losses = [\"+Background_NoNegPrompt\", \"Base_NoNegPrompt\"]\n",
    "losses = [\"no_new_Loss_NoPrior\"]\n",
    "for folder in folders:\n",
    "    for loss in losses:\n",
    "        img_files = os.listdir(os.path.join(origin_folder, folder, loss))\n",
    "        for img_file in tqdm(img_files): \n",
    "            img_path = os.path.join(origin_folder, folder, loss, img_file)\n",
    "            id_of_img = img_file.split(\"_\")[0]\n",
    "\n",
    "            os.makedirs(os.path.join(output_folder, folder, loss, id_of_img), exist_ok=True)\n",
    "            target_path = os.path.join(output_folder, folder, loss, id_of_img, img_file)\n",
    "            shutil.copyfile(img_path, target_path)\n",
    "\n"
   ]
  },
  {
   "cell_type": "code",
   "execution_count": null,
   "metadata": {},
   "outputs": [],
   "source": []
  },
  {
   "cell_type": "code",
   "execution_count": null,
   "metadata": {},
   "outputs": [
    {
     "name": "stderr",
     "output_type": "stream",
     "text": [
      "0it [00:00, ?it/s]"
     ]
    },
    {
     "name": "stderr",
     "output_type": "stream",
     "text": [
      "19999it [00:00, 28296.95it/s] \n"
     ]
    }
   ],
   "source": [
    "import os \n",
    "import shutil \n",
    "from tqdm import tqdm \n",
    "\n",
    "origin_folder = \"FR_DATASETS\"\n",
    "output_folder = \"FR_DATASETS_Conditional\"\n",
    "\n",
    "# folders = [\"tufts_512_poses_1-7_all_imgs_jpg_per_ID\"]\n",
    "folders = [\"FFHQ_512\"]\n",
    "\n",
    "losses = [\"images\"]\n",
    "\n",
    "\n",
    "for folder in folders:\n",
    "    for loss in losses:\n",
    "        img_files = os.listdir(os.path.join(origin_folder, folder, loss))\n",
    "        for i, img_file in tqdm(enumerate(img_files)): \n",
    "            if i <= 9999: \n",
    "                continue \n",
    "            if i == 19999: \n",
    "                break \n",
    "            img_path = os.path.join(origin_folder, folder, loss, img_file)\n",
    "            id_of_img = img_file.split(\"_\")[0]\n",
    "\n",
    "            os.makedirs(os.path.join(output_folder, folder, loss, id_of_img), exist_ok=True)\n",
    "            target_path = os.path.join(output_folder, folder, loss, id_of_img, img_file)\n",
    "            shutil.copyfile(img_path, target_path)\n",
    "            \n"
   ]
  },
  {
   "cell_type": "code",
   "execution_count": null,
   "metadata": {},
   "outputs": [],
   "source": []
  },
  {
   "cell_type": "code",
   "execution_count": null,
   "metadata": {},
   "outputs": [],
   "source": []
  }
 ],
 "metadata": {
  "kernelspec": {
   "display_name": "dgm_eval",
   "language": "python",
   "name": "python3"
  },
  "language_info": {
   "codemirror_mode": {
    "name": "ipython",
    "version": 3
   },
   "file_extension": ".py",
   "mimetype": "text/x-python",
   "name": "python",
   "nbconvert_exporter": "python",
   "pygments_lexer": "ipython3",
   "version": "3.10.16"
  }
 },
 "nbformat": 4,
 "nbformat_minor": 2
}
