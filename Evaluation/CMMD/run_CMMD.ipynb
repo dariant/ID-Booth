{
 "cells": [
  {
   "cell_type": "code",
   "execution_count": null,
   "metadata": {},
   "outputs": [
    {
     "name": "stdout",
     "output_type": "stream",
     "text": [
      "../../FR_DATASETS/12-2024_SD21_LoRA4_alphaW0.1_Face_Poses_Environments/no_new_Loss\n",
      "2025-01-09 00:26:53.581420: E external/local_xla/xla/stream_executor/cuda/cuda_fft.cc:485] Unable to register cuFFT factory: Attempting to register factory for plugin cuFFT when one has already been registered\n",
      "2025-01-09 00:26:53.591621: E external/local_xla/xla/stream_executor/cuda/cuda_dnn.cc:8454] Unable to register cuDNN factory: Attempting to register factory for plugin cuDNN when one has already been registered\n",
      "2025-01-09 00:26:53.594716: E external/local_xla/xla/stream_executor/cuda/cuda_blas.cc:1452] Unable to register cuBLAS factory: Attempting to register factory for plugin cuBLAS when one has already been registered\n",
      "2025-01-09 00:26:53.603298: I tensorflow/core/platform/cpu_feature_guard.cc:210] This TensorFlow binary is optimized to use available CPU instructions in performance-critical operations.\n",
      "To enable the following instructions: AVX2 FMA, in other operations, rebuild TensorFlow with the appropriate compiler flags.\n",
      "2025-01-09 00:26:54.122662: W tensorflow/compiler/tf2tensorrt/utils/py_utils.cc:38] TF-TRT Warning: Could not find TensorRT\n",
      "WARNING: All log messages before absl::InitializeLog() is called are written to STDERR\n",
      "I0000 00:00:1736378814.965770 2113547 cuda_executor.cc:1015] successful NUMA node read from SysFS had negative value (-1), but there must be at least one NUMA node, so returning NUMA node zero. See more at https://github.com/torvalds/linux/blob/v6.0/Documentation/ABI/testing/sysfs-bus-pci#L344-L355\n",
      "I0000 00:00:1736378814.965992 2113547 cuda_executor.cc:1015] successful NUMA node read from SysFS had negative value (-1), but there must be at least one NUMA node, so returning NUMA node zero. See more at https://github.com/torvalds/linux/blob/v6.0/Documentation/ABI/testing/sysfs-bus-pci#L344-L355\n",
      "I0000 00:00:1736378814.990502 2113547 cuda_executor.cc:1015] successful NUMA node read from SysFS had negative value (-1), but there must be at least one NUMA node, so returning NUMA node zero. See more at https://github.com/torvalds/linux/blob/v6.0/Documentation/ABI/testing/sysfs-bus-pci#L344-L355\n",
      "I0000 00:00:1736378814.990694 2113547 cuda_executor.cc:1015] successful NUMA node read from SysFS had negative value (-1), but there must be at least one NUMA node, so returning NUMA node zero. See more at https://github.com/torvalds/linux/blob/v6.0/Documentation/ABI/testing/sysfs-bus-pci#L344-L355\n",
      "I0000 00:00:1736378814.990861 2113547 cuda_executor.cc:1015] successful NUMA node read from SysFS had negative value (-1), but there must be at least one NUMA node, so returning NUMA node zero. See more at https://github.com/torvalds/linux/blob/v6.0/Documentation/ABI/testing/sysfs-bus-pci#L344-L355\n",
      "I0000 00:00:1736378814.991029 2113547 cuda_executor.cc:1015] successful NUMA node read from SysFS had negative value (-1), but there must be at least one NUMA node, so returning NUMA node zero. See more at https://github.com/torvalds/linux/blob/v6.0/Documentation/ABI/testing/sysfs-bus-pci#L344-L355\n",
      "Sample it: False\n",
      "MAX 2500\n",
      "Desired image size: 336\n",
      "Presaved path: CMMD_FR_Features_12-2024/FFHQ_512/images.npy\n",
      "Load existing features\n",
      "Total num. of image features: 69991\n",
      "Presaved path: CMMD_FR_Features_12-2024/12-2024_SD21_LoRA4_alphaW0.1_Face_Poses_Environments/no_new_Loss.npy\n",
      "Load existing features\n",
      "Total num. of image features: 2247\n",
      "==========================================================================================\n",
      "../../FR_DATASETS/12-2024_SD21_LoRA4_alphaW0.1_Face_Poses_Environments/identity_loss_TimestepWeight\n",
      "2025-01-09 00:28:03.402663: E external/local_xla/xla/stream_executor/cuda/cuda_fft.cc:485] Unable to register cuFFT factory: Attempting to register factory for plugin cuFFT when one has already been registered\n",
      "2025-01-09 00:28:03.496554: E external/local_xla/xla/stream_executor/cuda/cuda_dnn.cc:8454] Unable to register cuDNN factory: Attempting to register factory for plugin cuDNN when one has already been registered\n",
      "2025-01-09 00:28:03.537234: E external/local_xla/xla/stream_executor/cuda/cuda_blas.cc:1452] Unable to register cuBLAS factory: Attempting to register factory for plugin cuBLAS when one has already been registered\n",
      "2025-01-09 00:28:03.747537: I tensorflow/core/platform/cpu_feature_guard.cc:210] This TensorFlow binary is optimized to use available CPU instructions in performance-critical operations.\n",
      "To enable the following instructions: AVX2 FMA, in other operations, rebuild TensorFlow with the appropriate compiler flags.\n",
      "2025-01-09 00:28:04.869086: W tensorflow/compiler/tf2tensorrt/utils/py_utils.cc:38] TF-TRT Warning: Could not find TensorRT\n",
      "^C\n",
      "Traceback (most recent call last):\n",
      "  File \"/home/darian/Desktop/Diffusion/ID-Booth/Evaluation/CMMD/main_CMMD_ID-Booth_12-2024.py\", line 21, in <module>\n",
      "    import embedding\n",
      "  File \"/home/darian/Desktop/Diffusion/ID-Booth/Evaluation/CMMD/embedding.py\", line 18, in <module>\n",
      "    from transformers import CLIPImageProcessor, CLIPVisionModelWithProjection\n",
      "  File \"<frozen importlib._bootstrap>\", line 1075, in _handle_fromlist\n",
      "  File \"/home/darian/miniconda3/envs/ml4lg_diff/lib/python3.10/site-packages/transformers/utils/import_utils.py\", line 1073, in __getattr__\n",
      "    value = getattr(module, name)\n",
      "  File \"/home/darian/miniconda3/envs/ml4lg_diff/lib/python3.10/site-packages/transformers/utils/import_utils.py\", line 1072, in __getattr__\n",
      "    module = self._get_module(self._class_to_module[name])\n",
      "  File \"/home/darian/miniconda3/envs/ml4lg_diff/lib/python3.10/site-packages/transformers/utils/import_utils.py\", line 1082, in _get_module\n",
      "    return importlib.import_module(\".\" + module_name, self.__name__)\n",
      "  File \"/home/darian/miniconda3/envs/ml4lg_diff/lib/python3.10/importlib/__init__.py\", line 126, in import_module\n",
      "    return _bootstrap._gcd_import(name[level:], package, level)\n",
      "  File \"/home/darian/miniconda3/envs/ml4lg_diff/lib/python3.10/site-packages/transformers/models/clip/image_processing_clip.py\", line 22, in <module>\n",
      "    from ...image_transforms import (\n",
      "  File \"/home/darian/miniconda3/envs/ml4lg_diff/lib/python3.10/site-packages/transformers/image_transforms.py\", line 48, in <module>\n",
      "    import tensorflow as tf\n",
      "  File \"/home/darian/miniconda3/envs/ml4lg_diff/lib/python3.10/site-packages/tensorflow/__init__.py\", line 464, in <module>\n",
      "    importlib.import_module(\"keras.src.optimizers\")\n",
      "  File \"/home/darian/miniconda3/envs/ml4lg_diff/lib/python3.10/importlib/__init__.py\", line 126, in import_module\n",
      "    return _bootstrap._gcd_import(name[level:], package, level)\n",
      "  File \"/home/darian/miniconda3/envs/ml4lg_diff/lib/python3.10/site-packages/keras/__init__.py\", line 4, in <module>\n",
      "    from keras.api import DTypePolicy\n",
      "  File \"/home/darian/miniconda3/envs/ml4lg_diff/lib/python3.10/site-packages/keras/api/__init__.py\", line 8, in <module>\n",
      "    from keras.api import activations\n",
      "  File \"/home/darian/miniconda3/envs/ml4lg_diff/lib/python3.10/site-packages/keras/api/activations/__init__.py\", line 7, in <module>\n",
      "    from keras.src.activations import deserialize\n",
      "  File \"/home/darian/miniconda3/envs/ml4lg_diff/lib/python3.10/site-packages/keras/src/__init__.py\", line 1, in <module>\n",
      "    from keras.src import activations\n",
      "  File \"/home/darian/miniconda3/envs/ml4lg_diff/lib/python3.10/site-packages/keras/src/activations/__init__.py\", line 22, in <module>\n",
      "    from keras.src.saving import object_registration\n",
      "  File \"/home/darian/miniconda3/envs/ml4lg_diff/lib/python3.10/site-packages/keras/src/saving/__init__.py\", line 7, in <module>\n",
      "    from keras.src.saving.saving_api import load_model\n",
      "  File \"/home/darian/miniconda3/envs/ml4lg_diff/lib/python3.10/site-packages/keras/src/saving/saving_api.py\", line 7, in <module>\n",
      "    from keras.src.legacy.saving import legacy_h5_format\n",
      "  File \"/home/darian/miniconda3/envs/ml4lg_diff/lib/python3.10/site-packages/keras/src/legacy/saving/legacy_h5_format.py\", line 13, in <module>\n",
      "    from keras.src.legacy.saving import saving_utils\n",
      "  File \"/home/darian/miniconda3/envs/ml4lg_diff/lib/python3.10/site-packages/keras/src/legacy/saving/saving_utils.py\", line 7, in <module>\n",
      "    from keras.src import layers\n",
      "  File \"/home/darian/miniconda3/envs/ml4lg_diff/lib/python3.10/site-packages/keras/src/layers/__init__.py\", line 2, in <module>\n",
      "    from keras.src.layers.activations.activation import Activation\n",
      "  File \"/home/darian/miniconda3/envs/ml4lg_diff/lib/python3.10/site-packages/keras/src/layers/activations/__init__.py\", line 1, in <module>\n",
      "    from keras.src.layers.activations.elu import ELU\n",
      "  File \"/home/darian/miniconda3/envs/ml4lg_diff/lib/python3.10/site-packages/keras/src/layers/activations/elu.py\", line 3, in <module>\n",
      "    from keras.src.layers.layer import Layer\n",
      "  File \"/home/darian/miniconda3/envs/ml4lg_diff/lib/python3.10/site-packages/keras/src/layers/layer.py\", line 42, in <module>\n",
      "    from keras.src.utils import summary_utils\n",
      "  File \"/home/darian/miniconda3/envs/ml4lg_diff/lib/python3.10/site-packages/keras/src/utils/summary_utils.py\", line 6, in <module>\n",
      "    import rich.console\n",
      "  File \"/home/darian/miniconda3/envs/ml4lg_diff/lib/python3.10/site-packages/rich/console.py\", line 63, in <module>\n",
      "    from .scope import render_scope\n",
      "  File \"/home/darian/miniconda3/envs/ml4lg_diff/lib/python3.10/site-packages/rich/scope.py\", line 7, in <module>\n",
      "    from .table import Table\n",
      "  File \"<frozen importlib._bootstrap>\", line 1027, in _find_and_load\n",
      "  File \"<frozen importlib._bootstrap>\", line 1006, in _find_and_load_unlocked\n",
      "  File \"<frozen importlib._bootstrap>\", line 674, in _load_unlocked\n",
      "  File \"<frozen importlib._bootstrap>\", line 564, in module_from_spec\n",
      "KeyboardInterrupt\n",
      "==========================================================================================\n",
      "../../FR_DATASETS/12-2024_SD21_LoRA4_alphaW0.1_Face_Poses_Environments/triplet_prior_loss_TimestepWeight\n",
      "2025-01-09 00:28:07.127837: E external/local_xla/xla/stream_executor/cuda/cuda_fft.cc:485] Unable to register cuFFT factory: Attempting to register factory for plugin cuFFT when one has already been registered\n",
      "2025-01-09 00:28:07.137995: E external/local_xla/xla/stream_executor/cuda/cuda_dnn.cc:8454] Unable to register cuDNN factory: Attempting to register factory for plugin cuDNN when one has already been registered\n",
      "2025-01-09 00:28:07.141079: E external/local_xla/xla/stream_executor/cuda/cuda_blas.cc:1452] Unable to register cuBLAS factory: Attempting to register factory for plugin cuBLAS when one has already been registered\n",
      "2025-01-09 00:28:07.149580: I tensorflow/core/platform/cpu_feature_guard.cc:210] This TensorFlow binary is optimized to use available CPU instructions in performance-critical operations.\n",
      "To enable the following instructions: AVX2 FMA, in other operations, rebuild TensorFlow with the appropriate compiler flags.\n",
      "2025-01-09 00:28:07.666628: W tensorflow/compiler/tf2tensorrt/utils/py_utils.cc:38] TF-TRT Warning: Could not find TensorRT\n",
      "WARNING: All log messages before absl::InitializeLog() is called are written to STDERR\n",
      "I0000 00:00:1736378889.898966 2114017 cuda_executor.cc:1015] successful NUMA node read from SysFS had negative value (-1), but there must be at least one NUMA node, so returning NUMA node zero. See more at https://github.com/torvalds/linux/blob/v6.0/Documentation/ABI/testing/sysfs-bus-pci#L344-L355\n",
      "I0000 00:00:1736378889.899242 2114017 cuda_executor.cc:1015] successful NUMA node read from SysFS had negative value (-1), but there must be at least one NUMA node, so returning NUMA node zero. See more at https://github.com/torvalds/linux/blob/v6.0/Documentation/ABI/testing/sysfs-bus-pci#L344-L355\n",
      "I0000 00:00:1736378890.377602 2114017 cuda_executor.cc:1015] successful NUMA node read from SysFS had negative value (-1), but there must be at least one NUMA node, so returning NUMA node zero. See more at https://github.com/torvalds/linux/blob/v6.0/Documentation/ABI/testing/sysfs-bus-pci#L344-L355\n",
      "I0000 00:00:1736378890.377963 2114017 cuda_executor.cc:1015] successful NUMA node read from SysFS had negative value (-1), but there must be at least one NUMA node, so returning NUMA node zero. See more at https://github.com/torvalds/linux/blob/v6.0/Documentation/ABI/testing/sysfs-bus-pci#L344-L355\n",
      "I0000 00:00:1736378890.378242 2114017 cuda_executor.cc:1015] successful NUMA node read from SysFS had negative value (-1), but there must be at least one NUMA node, so returning NUMA node zero. See more at https://github.com/torvalds/linux/blob/v6.0/Documentation/ABI/testing/sysfs-bus-pci#L344-L355\n",
      "I0000 00:00:1736378890.379610 2114017 cuda_executor.cc:1015] successful NUMA node read from SysFS had negative value (-1), but there must be at least one NUMA node, so returning NUMA node zero. See more at https://github.com/torvalds/linux/blob/v6.0/Documentation/ABI/testing/sysfs-bus-pci#L344-L355\n",
      "Sample it: False\n",
      "MAX 2500\n"
     ]
    }
   ],
   "source": [
    "\n",
    "all_folders = [\n",
    "            \"12-2024_SD21_LoRA4_alphaW0.1_Face_Poses_Environments\", \n",
    "            #\"12-2024_SD21_LoRA4_alphaW0.1_Face\",\n",
    "            ]\n",
    "\n",
    "loss_exps = [\"no_new_Loss\", \"identity_loss_TimestepWeight\", \"triplet_prior_loss_TimestepWeight\"]\n",
    "\n",
    "parent_folder = \"../../FR_DATASETS\"\n",
    "#dat0 = f\"{parent_folder}/FFHQ_all_images_512x512/images\"\n",
    "#dat0 = \"../../DreamBooth/FR_DATASETS/tufts_512_poses_1-7_all_imgs_jpg_per_ID/images\"\n",
    "\n",
    "real_datasets = [ \"tufts_512_poses_1-7_all_imgs_jpg_per_ID/images\"]#, \"FFHQ_512/images\"]\n",
    "# real_datasets = [ \"FFHQ_512/images\"]\n",
    "\n",
    "for real_dat in real_datasets: \n",
    "    dat0 = f\"{parent_folder}/{real_dat}\"\n",
    "    for main_fold in all_folders: \n",
    "        for loss_exp in loss_exps:\n",
    "            dat1 = f\"{parent_folder}/{main_fold}/{loss_exp}\" \n",
    "            print(dat1)\n",
    "            !python main_CMMD_ID-Booth_12-2024.py  $dat0 $dat1 --batch_size=32 --max_count=2500 # TODO ... 2500\n",
    "\n",
    "            #break \n",
    "            print(\"===\" * 30)\n",
    "        #break "
   ]
  },
  {
   "cell_type": "markdown",
   "metadata": {},
   "source": [
    "### CMMD for non fine-tuned models: "
   ]
  },
  {
   "cell_type": "code",
   "execution_count": null,
   "metadata": {},
   "outputs": [],
   "source": [
    "\n",
    "all_folders = [\"SD21_pretrained_base_prompt\", \n",
    "           \"SD21_pretrained_combined\", \n",
    "           \"SDXL_pretrained_base_prompt\",\n",
    "           \"SDXL_pretrained_combined\"\n",
    "            ]\n",
    "\n",
    "loss_exps = [\"images\"]\n",
    "\n",
    "parent_folder = \"../../DreamBooth/FR_DATASETS\"\n",
    "real_datasets = [\"FFHQ_all_images_512x512/images\", \"tufts_512_poses_1-7_all_imgs_jpg_per_ID/images\"]\n",
    "\n",
    "for real_dat in real_datasets: \n",
    "    dat0 = f\"{parent_folder}/{real_dat}\"\n",
    "    for main_fold in all_folders: \n",
    "        for loss_exp in loss_exps:\n",
    "            dat1 = f\"{parent_folder}/{main_fold}/{loss_exp}\" \n",
    "            print(dat1)\n",
    "            !python main_DB_FR.py  $dat0 $dat1 --batch_size=32 --max_count=2500\n",
    "\n",
    "            print(\"===\" * 30)\n"
   ]
  },
  {
   "cell_type": "markdown",
   "metadata": {},
   "source": [
    "### CMMD between two real datasets"
   ]
  },
  {
   "cell_type": "code",
   "execution_count": 2,
   "metadata": {},
   "outputs": [
    {
     "name": "stdout",
     "output_type": "stream",
     "text": [
      "2024-10-01 09:49:30.695578: E external/local_xla/xla/stream_executor/cuda/cuda_fft.cc:485] Unable to register cuFFT factory: Attempting to register factory for plugin cuFFT when one has already been registered\n",
      "2024-10-01 09:49:30.705768: E external/local_xla/xla/stream_executor/cuda/cuda_dnn.cc:8454] Unable to register cuDNN factory: Attempting to register factory for plugin cuDNN when one has already been registered\n",
      "2024-10-01 09:49:30.708898: E external/local_xla/xla/stream_executor/cuda/cuda_blas.cc:1452] Unable to register cuBLAS factory: Attempting to register factory for plugin cuBLAS when one has already been registered\n",
      "2024-10-01 09:49:30.717284: I tensorflow/core/platform/cpu_feature_guard.cc:210] This TensorFlow binary is optimized to use available CPU instructions in performance-critical operations.\n",
      "To enable the following instructions: AVX2 FMA, in other operations, rebuild TensorFlow with the appropriate compiler flags.\n",
      "2024-10-01 09:49:31.237031: W tensorflow/compiler/tf2tensorrt/utils/py_utils.cc:38] TF-TRT Warning: Could not find TensorRT\n",
      "WARNING: All log messages before absl::InitializeLog() is called are written to STDERR\n",
      "I0000 00:00:1727768972.052558  430122 cuda_executor.cc:1015] successful NUMA node read from SysFS had negative value (-1), but there must be at least one NUMA node, so returning NUMA node zero. See more at https://github.com/torvalds/linux/blob/v6.0/Documentation/ABI/testing/sysfs-bus-pci#L344-L355\n",
      "I0000 00:00:1727768972.052759  430122 cuda_executor.cc:1015] successful NUMA node read from SysFS had negative value (-1), but there must be at least one NUMA node, so returning NUMA node zero. See more at https://github.com/torvalds/linux/blob/v6.0/Documentation/ABI/testing/sysfs-bus-pci#L344-L355\n",
      "I0000 00:00:1727768972.078953  430122 cuda_executor.cc:1015] successful NUMA node read from SysFS had negative value (-1), but there must be at least one NUMA node, so returning NUMA node zero. See more at https://github.com/torvalds/linux/blob/v6.0/Documentation/ABI/testing/sysfs-bus-pci#L344-L355\n",
      "I0000 00:00:1727768972.079174  430122 cuda_executor.cc:1015] successful NUMA node read from SysFS had negative value (-1), but there must be at least one NUMA node, so returning NUMA node zero. See more at https://github.com/torvalds/linux/blob/v6.0/Documentation/ABI/testing/sysfs-bus-pci#L344-L355\n",
      "I0000 00:00:1727768972.079343  430122 cuda_executor.cc:1015] successful NUMA node read from SysFS had negative value (-1), but there must be at least one NUMA node, so returning NUMA node zero. See more at https://github.com/torvalds/linux/blob/v6.0/Documentation/ABI/testing/sysfs-bus-pci#L344-L355\n",
      "I0000 00:00:1727768972.079508  430122 cuda_executor.cc:1015] successful NUMA node read from SysFS had negative value (-1), but there must be at least one NUMA node, so returning NUMA node zero. See more at https://github.com/torvalds/linux/blob/v6.0/Documentation/ABI/testing/sysfs-bus-pci#L344-L355\n",
      "Presaved path: CMMD_FR_Features_20240929/tufts_512_poses_1-7_all_imgs_jpg_per_ID/images.npy\n",
      "Load existing features\n",
      "Presaved path: CMMD_FR_Features_20240929/FFHQ_all_images_512x512/images.npy\n",
      "Load existing features\n",
      "The CMMD value is:  0.929\n"
     ]
    }
   ],
   "source": [
    "dat0 = \"../../DreamBooth/FR_DATASETS/FFHQ_all_images_512x512/images\"\n",
    "dat1 = \"../../DreamBooth/FR_DATASETS/tufts_512_poses_1-7_all_imgs_jpg_per_ID/images\"\n",
    "\n",
    "!python main_DB_FR.py  $dat1 $dat0 --batch_size=32 --max_count=2500\n"
   ]
  },
  {
   "cell_type": "markdown",
   "metadata": {},
   "source": [
    "### CMMD among a real dataset"
   ]
  },
  {
   "cell_type": "code",
   "execution_count": 4,
   "metadata": {},
   "outputs": [
    {
     "name": "stdout",
     "output_type": "stream",
     "text": [
      "2024-10-01 09:55:31.132860: E external/local_xla/xla/stream_executor/cuda/cuda_fft.cc:485] Unable to register cuFFT factory: Attempting to register factory for plugin cuFFT when one has already been registered\n",
      "2024-10-01 09:55:31.143238: E external/local_xla/xla/stream_executor/cuda/cuda_dnn.cc:8454] Unable to register cuDNN factory: Attempting to register factory for plugin cuDNN when one has already been registered\n",
      "2024-10-01 09:55:31.146425: E external/local_xla/xla/stream_executor/cuda/cuda_blas.cc:1452] Unable to register cuBLAS factory: Attempting to register factory for plugin cuBLAS when one has already been registered\n",
      "2024-10-01 09:55:31.154858: I tensorflow/core/platform/cpu_feature_guard.cc:210] This TensorFlow binary is optimized to use available CPU instructions in performance-critical operations.\n",
      "To enable the following instructions: AVX2 FMA, in other operations, rebuild TensorFlow with the appropriate compiler flags.\n",
      "2024-10-01 09:55:31.669310: W tensorflow/compiler/tf2tensorrt/utils/py_utils.cc:38] TF-TRT Warning: Could not find TensorRT\n",
      "WARNING: All log messages before absl::InitializeLog() is called are written to STDERR\n",
      "I0000 00:00:1727769332.504593  431296 cuda_executor.cc:1015] successful NUMA node read from SysFS had negative value (-1), but there must be at least one NUMA node, so returning NUMA node zero. See more at https://github.com/torvalds/linux/blob/v6.0/Documentation/ABI/testing/sysfs-bus-pci#L344-L355\n",
      "I0000 00:00:1727769332.504790  431296 cuda_executor.cc:1015] successful NUMA node read from SysFS had negative value (-1), but there must be at least one NUMA node, so returning NUMA node zero. See more at https://github.com/torvalds/linux/blob/v6.0/Documentation/ABI/testing/sysfs-bus-pci#L344-L355\n",
      "I0000 00:00:1727769332.530857  431296 cuda_executor.cc:1015] successful NUMA node read from SysFS had negative value (-1), but there must be at least one NUMA node, so returning NUMA node zero. See more at https://github.com/torvalds/linux/blob/v6.0/Documentation/ABI/testing/sysfs-bus-pci#L344-L355\n",
      "I0000 00:00:1727769332.531081  431296 cuda_executor.cc:1015] successful NUMA node read from SysFS had negative value (-1), but there must be at least one NUMA node, so returning NUMA node zero. See more at https://github.com/torvalds/linux/blob/v6.0/Documentation/ABI/testing/sysfs-bus-pci#L344-L355\n",
      "I0000 00:00:1727769332.531246  431296 cuda_executor.cc:1015] successful NUMA node read from SysFS had negative value (-1), but there must be at least one NUMA node, so returning NUMA node zero. See more at https://github.com/torvalds/linux/blob/v6.0/Documentation/ABI/testing/sysfs-bus-pci#L344-L355\n",
      "I0000 00:00:1727769332.531406  431296 cuda_executor.cc:1015] successful NUMA node read from SysFS had negative value (-1), but there must be at least one NUMA node, so returning NUMA node zero. See more at https://github.com/torvalds/linux/blob/v6.0/Documentation/ABI/testing/sysfs-bus-pci#L344-L355\n",
      "Presaved path: CMMD_FR_Features_20240929/tufts_512_poses_1-7_all_imgs_jpg_per_ID/images.npy\n",
      "Load existing features\n",
      "Samples: 1149 1150\n",
      "The CMMD value is:  0.006\n"
     ]
    }
   ],
   "source": [
    "#dat1 = \"../../DreamBooth/FR_DATASETS/FFHQ_all_images_512x512/images\"\n",
    "dat1 = \"../../DreamBooth/FR_DATASETS/tufts_512_poses_1-7_all_imgs_jpg_per_ID/images\"\n",
    "\n",
    "!python main_DB_FR_among_real.py  $dat1 --batch_size=32 --max_count=5000\n"
   ]
  },
  {
   "cell_type": "code",
   "execution_count": null,
   "metadata": {},
   "outputs": [],
   "source": []
  }
 ],
 "metadata": {
  "kernelspec": {
   "display_name": "ml4lg_diff",
   "language": "python",
   "name": "python3"
  },
  "language_info": {
   "codemirror_mode": {
    "name": "ipython",
    "version": 3
   },
   "file_extension": ".py",
   "mimetype": "text/x-python",
   "name": "python",
   "nbconvert_exporter": "python",
   "pygments_lexer": "ipython3",
   "version": "3.10.6"
  }
 },
 "nbformat": 4,
 "nbformat_minor": 2
}
